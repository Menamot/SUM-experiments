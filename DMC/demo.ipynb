{
 "cells": [
  {
   "cell_type": "code",
   "execution_count": null,
   "id": "ffbb8741ea53e3fc",
   "metadata": {
    "collapsed": false,
    "ExecuteTime": {
     "end_time": "2024-05-25T11:25:26.508469500Z",
     "start_time": "2024-05-25T08:19:28.662105600Z"
    }
   },
   "outputs": [],
   "source": [
    "from DMC_class import *\n",
    "import numpy as np\n",
    "from sklearn import datasets\n",
    "\n",
    "import warnings\n",
    "warnings.filterwarnings(\"ignore\")"
   ]
  },
  {
   "cell_type": "code",
   "execution_count": null,
   "id": "582e62f040a63680",
   "metadata": {
    "collapsed": false,
    "ExecuteTime": {
     "start_time": "2024-05-25T08:19:28.664105900Z"
    }
   },
   "outputs": [],
   "source": [
    "K = 2\n",
    "L = np.ones((K,K)) - np.eye(K)"
   ]
  },
  {
   "cell_type": "code",
   "execution_count": null,
   "id": "9527a3f3ae306959",
   "metadata": {
    "collapsed": false,
    "ExecuteTime": {
     "start_time": "2024-05-25T08:19:28.665108100Z"
    }
   },
   "outputs": [],
   "source": [
    "np.random.seed(10)\n",
    "X_train, y_train = datasets.make_blobs(n_samples=[125 * 5, 70 * 3], n_features=2, centers=[(9.5, 10), (9.7, 9.4)],\n",
    "                                       cluster_std=[[0.6, 0.6], [0.35, 0.3]], shuffle=True, random_state=None)\n",
    "\n",
    "# X_train = pd.DataFrame(X_train, columns=['X1', 'X2'])\n",
    "# y_train = pd.DataFrame(y_train+1, columns=['y'])\n"
   ]
  },
  {
   "cell_type": "code",
   "execution_count": null,
   "id": "a494298684e06aa",
   "metadata": {
    "collapsed": false,
    "ExecuteTime": {
     "start_time": "2024-05-25T08:19:28.668107300Z"
    }
   },
   "outputs": [],
   "source": [
    "DMC_model = DMC(T=10,option_info=True,discretization=\"kmeans\")\n",
    "DMC_model.fit(X_train,y_train)"
   ]
  },
  {
   "cell_type": "code",
   "execution_count": null,
   "id": "ba1bf13972b2f426",
   "metadata": {
    "collapsed": false,
    "ExecuteTime": {
     "start_time": "2024-05-25T08:19:28.670109500Z"
    }
   },
   "outputs": [],
   "source": [
    "y_pred = DMC_model.predict(X_train)\n",
    "compute_conditional_risk(y_train, y_pred, K, L)"
   ]
  },
  {
   "cell_type": "code",
   "execution_count": null,
   "id": "56f47899ec07678a",
   "metadata": {
    "collapsed": false,
    "ExecuteTime": {
     "start_time": "2024-05-25T08:19:28.672107900Z"
    }
   },
   "outputs": [],
   "source": [
    "y_pred = DMC_model.predict(X_train)\n",
    "compute_conditional_risk(y_train, y_pred, K, L)"
   ]
  }
 ],
 "metadata": {
  "kernelspec": {
   "display_name": "Python 3",
   "language": "python",
   "name": "python3"
  },
  "language_info": {
   "codemirror_mode": {
    "name": "ipython",
    "version": 3
   },
   "file_extension": ".py",
   "mimetype": "text/x-python",
   "name": "python",
   "nbconvert_exporter": "python",
   "pygments_lexer": "ipython3",
   "version": "3.9.7"
  }
 },
 "nbformat": 4,
 "nbformat_minor": 5
}
